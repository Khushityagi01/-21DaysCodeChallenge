{
 "cells": [
  {
   "cell_type": "code",
   "execution_count": 13,
   "id": "6f4055e3",
   "metadata": {},
   "outputs": [],
   "source": [
    "class BinaryTreeNode:\n",
    "    def __init__(self,data):\n",
    "        self.data = data\n",
    "        self.left = None\n",
    "        self.right = None"
   ]
  },
  {
   "cell_type": "code",
   "execution_count": 14,
   "id": "362b06f9",
   "metadata": {},
   "outputs": [],
   "source": [
    "def printTree(root):\n",
    "    if root ==  None:\n",
    "        return \n",
    "    print(root.data)\n",
    "    printTree(root.left)\n",
    "    printTree(root.right)"
   ]
  },
  {
   "cell_type": "code",
   "execution_count": 24,
   "id": "a78e0994",
   "metadata": {},
   "outputs": [],
   "source": [
    "def printTreeDetailed(root):\n",
    "    if root == None:\n",
    "        return \n",
    "    print(root.data, end = \":\")\n",
    "    if root.left!=None:\n",
    "        print(\"L\",root.left.data,end = ',')\n",
    "    if root.right!=None:\n",
    "        print(\"R\",root.right.data,end=\"\")\n",
    "    print()\n",
    "    printTreeDetailed(root.left)\n",
    "    printTreeDetailed(root.right)\n",
    "    \n",
    "    \n",
    "    "
   ]
  },
  {
   "cell_type": "code",
   "execution_count": 29,
   "id": "22694176",
   "metadata": {},
   "outputs": [],
   "source": [
    "btn1 = BinaryTreeNode(1)\n",
    "btn2 = BinaryTreeNode(2)\n",
    "btn3 = BinaryTreeNode(3)\n",
    "btn4 = BinaryTreeNode(4)\n",
    "btn5 = BinaryTreeNode(5)"
   ]
  },
  {
   "cell_type": "code",
   "execution_count": 30,
   "id": "87d9102d",
   "metadata": {},
   "outputs": [],
   "source": [
    "btn1.left = btn2\n",
    "btn1.right = btn3\n",
    "btn2.left = btn4\n",
    "btn2.right = btn5"
   ]
  },
  {
   "cell_type": "code",
   "execution_count": 31,
   "id": "67d94214",
   "metadata": {},
   "outputs": [
    {
     "name": "stdout",
     "output_type": "stream",
     "text": [
      "1:L 2,R 3\n",
      "2:L 4,R 5\n",
      "4:\n",
      "5:\n",
      "3:\n"
     ]
    }
   ],
   "source": [
    "printTreeDetailed(btn1)"
   ]
  },
  {
   "cell_type": "code",
   "execution_count": 32,
   "id": "e85be7c9",
   "metadata": {},
   "outputs": [],
   "source": [
    "def treeInput():\n",
    "    rootData = int(input())\n",
    "    if rootData == -1:\n",
    "        return None\n",
    "    root = BinaryTreeNode(rootData)\n",
    "    leftTree = treeInput()\n",
    "    rightTree = treeInput()\n",
    "    root.left = leftTree\n",
    "    root.right = rightTree\n",
    "    return root"
   ]
  },
  {
   "cell_type": "code",
   "execution_count": 33,
   "id": "c45dc798",
   "metadata": {},
   "outputs": [
    {
     "name": "stdout",
     "output_type": "stream",
     "text": [
      "1\n",
      "2\n",
      "4\n",
      "-1\n",
      "-1\n",
      "5\n",
      "-1\n",
      "-1\n",
      "3\n",
      "-1\n",
      "7\n",
      "-1\n",
      "-1\n",
      "1:L 2,R 3\n",
      "2:L 4,R 5\n",
      "4:\n",
      "5:\n",
      "3:R 7\n",
      "7:\n"
     ]
    }
   ],
   "source": [
    "root = treeInput()\n",
    "printTreeDetailed(root)"
   ]
  },
  {
   "cell_type": "code",
   "execution_count": 34,
   "id": "e025367b",
   "metadata": {},
   "outputs": [],
   "source": [
    "def numNodes(root):\n",
    "    if root == None:\n",
    "        return 0\n",
    "    leftcount = numNodes(root.left)\n",
    "    rightcount = numNodes(root.right)\n",
    "    return 1+leftcount+rightcount"
   ]
  },
  {
   "cell_type": "code",
   "execution_count": 37,
   "id": "fe41b14e",
   "metadata": {},
   "outputs": [
    {
     "name": "stdout",
     "output_type": "stream",
     "text": [
      "1\n",
      "2\n",
      "-1\n",
      "-1\n",
      "3\n",
      "4\n",
      "6\n",
      "-1\n",
      "-1\n",
      "-1\n",
      "5\n",
      "-1\n",
      "-1\n",
      "1:L 2,R 3\n",
      "2:\n",
      "3:L 4,R 5\n",
      "4:L 6,\n",
      "6:\n",
      "5:\n",
      "6\n"
     ]
    }
   ],
   "source": [
    "root = treeInput()\n",
    "printTreeDetailed(root)\n",
    "print(numNodes(root))"
   ]
  },
  {
   "cell_type": "code",
   "execution_count": 38,
   "id": "b73f1497",
   "metadata": {},
   "outputs": [],
   "source": [
    "def largestData(root):\n",
    "    if root==None:\n",
    "        return -1\n",
    "    \n",
    "    leftLargest  =  largestData(root.left)\n",
    "    rightLargest = largestData(root.right)\n",
    "    largest = max(leftLargest,rightLargest,root.data)\n",
    "    return largest"
   ]
  },
  {
   "cell_type": "code",
   "execution_count": 39,
   "id": "055c580d",
   "metadata": {},
   "outputs": [
    {
     "name": "stdout",
     "output_type": "stream",
     "text": [
      "10\n",
      "20\n",
      "5\n",
      "-1\n",
      "-1\n",
      "9\n",
      "-1\n",
      "-1\n",
      "3\n",
      "-1\n",
      "-1\n",
      "10:L 20,R 3\n",
      "20:L 5,R 9\n",
      "5:\n",
      "9:\n",
      "3:\n",
      "5\n",
      "20\n"
     ]
    }
   ],
   "source": [
    "root = treeInput()\n",
    "printTreeDetailed(root)\n",
    "print(numNodes(root))\n",
    "print(largestData(root))"
   ]
  },
  {
   "cell_type": "code",
   "execution_count": 44,
   "id": "e66d3949",
   "metadata": {},
   "outputs": [],
   "source": [
    "def numLeafNodes(root):\n",
    "    if root == None:\n",
    "        return 0\n",
    "    if root.left == None and root.right == None:\n",
    "        return 1\n",
    "    numLeafLeft = numLeafNodes(root.left)\n",
    "    numLeafright = numLeafNodes(root.right)\n",
    "    return numLeafLeft+numLeafright"
   ]
  },
  {
   "cell_type": "code",
   "execution_count": 45,
   "id": "6a9edcca",
   "metadata": {},
   "outputs": [
    {
     "name": "stdout",
     "output_type": "stream",
     "text": [
      "1\n",
      "2\n",
      "-1\n",
      "-1\n",
      "-1\n",
      "1:L 2,\n",
      "2:\n",
      "2\n",
      "2\n",
      "1\n"
     ]
    }
   ],
   "source": [
    "root = treeInput()\n",
    "printTreeDetailed(root)\n",
    "print(numNodes(root))\n",
    "print(largestData(root))\n",
    "print(numLeafNodes(root))"
   ]
  },
  {
   "cell_type": "code",
   "execution_count": 48,
   "id": "0392428c",
   "metadata": {},
   "outputs": [],
   "source": [
    "def printDepthk(root,k):\n",
    "    if root==None:\n",
    "        return\n",
    "    if k==0:\n",
    "        print(root.data)\n",
    "        return \n",
    "    printDepthk(root.left,k-1)\n",
    "    printDepthk(root.right,k-1)"
   ]
  },
  {
   "cell_type": "code",
   "execution_count": 49,
   "id": "f0e26d1b",
   "metadata": {},
   "outputs": [
    {
     "name": "stdout",
     "output_type": "stream",
     "text": [
      "1\n",
      "2\n",
      "4\n",
      "-1\n",
      "-1\n",
      "5\n",
      "-1\n",
      "-1\n",
      "3\n",
      "6\n",
      "-1\n",
      "-1\n",
      "-1\n",
      "1:L 2,R 3\n",
      "2:L 4,R 5\n",
      "4:\n",
      "5:\n",
      "3:L 6,\n",
      "6:\n",
      "6\n",
      "6\n",
      "3\n",
      "4\n",
      "5\n",
      "6\n"
     ]
    }
   ],
   "source": [
    "root = treeInput()\n",
    "printTreeDetailed(root)\n",
    "print(numNodes(root))\n",
    "print(largestData(root))\n",
    "print(numLeafNodes(root))"
   ]
  },
  {
   "cell_type": "code",
   "execution_count": 52,
   "id": "54fc3843",
   "metadata": {},
   "outputs": [],
   "source": [
    " def removeLeaves(root):\n",
    "        if root==None:\n",
    "            return None\n",
    "        if root.left == None and root.right == None:\n",
    "            return None\n",
    "        root.left=removeLeaves(root.left)\n",
    "        root.right=removeLeaves(root.right)\n",
    "        return root\n",
    "            "
   ]
  },
  {
   "cell_type": "code",
   "execution_count": 56,
   "id": "48ccdf40",
   "metadata": {},
   "outputs": [
    {
     "name": "stdout",
     "output_type": "stream",
     "text": [
      "1\n",
      "2\n",
      "4\n",
      "-1\n",
      "-1\n",
      "5\n",
      "8\n",
      "-1\n",
      "-1\n",
      "9\n",
      "-1\n",
      "-1\n",
      "3\n",
      "6\n",
      "-1\n",
      "-1\n",
      "7\n",
      "-1\n",
      "-1\n",
      "1:L 2,R 3\n",
      "2:L 4,R 5\n",
      "4:\n",
      "5:L 8,R 9\n",
      "8:\n",
      "9:\n",
      "3:L 6,R 7\n",
      "6:\n",
      "7:\n",
      "1:L 2,R 3\n",
      "2:R 5\n",
      "5:\n",
      "3:\n"
     ]
    }
   ],
   "source": [
    "root = treeInput()\n",
    "printTreeDetailed(root)\n",
    "removeLeaves(root)\n",
    "printTreeDetailed(root)"
   ]
  },
  {
   "cell_type": "code",
   "execution_count": 58,
   "id": "1da14940",
   "metadata": {},
   "outputs": [],
   "source": [
    "def height(root):\n",
    "    if root == None:\n",
    "        return 0\n",
    "    return 1+max(height(root.left),height(root.right))"
   ]
  },
  {
   "cell_type": "code",
   "execution_count": 59,
   "id": "6d03b619",
   "metadata": {},
   "outputs": [],
   "source": [
    " def isBalanced(root):\n",
    "        if root==None:\n",
    "            return True\n",
    "        lh = height(root.left)\n",
    "        rh = height(root.right)\n",
    "        if lh-rh>1 or rh-lh>1:\n",
    "            return False\n",
    "        \n",
    "        isLeftBalanced = isBalanced(root.left)\n",
    "        isrightBalanced = isBalanced(root.right)\n",
    "        if isLeftBalanced and isrightBalanced:\n",
    "            return True\n",
    "        else:\n",
    "            return False\n",
    "            \n",
    "        \n",
    "        "
   ]
  },
  {
   "cell_type": "code",
   "execution_count": 61,
   "id": "462b2235",
   "metadata": {},
   "outputs": [
    {
     "name": "stdout",
     "output_type": "stream",
     "text": [
      "1\n",
      "2\n",
      "-1\n",
      "-1\n",
      "3\n",
      "-1\n",
      "-1\n",
      "1:L 2,R 3\n",
      "2:\n",
      "3:\n",
      "True\n"
     ]
    }
   ],
   "source": [
    "root = treeInput()\n",
    "printTreeDetailed(root)\n",
    "print(isBalanced(root))"
   ]
  },
  {
   "cell_type": "code",
   "execution_count": 62,
   "id": "e367e55b",
   "metadata": {},
   "outputs": [
    {
     "name": "stdout",
     "output_type": "stream",
     "text": [
      "1\n",
      "2\n",
      "4\n",
      "5\n",
      "-1\n",
      "-1\n",
      "-1\n",
      "-1\n",
      "3\n",
      "6\n",
      "-1\n",
      "-1\n",
      "-1\n",
      "1:L 2,R 3\n",
      "2:L 4,\n",
      "4:L 5,\n",
      "5:\n",
      "3:L 6,\n",
      "6:\n",
      "(4, False)\n"
     ]
    }
   ],
   "source": [
    "#improved approach\n",
    "def getHeightAndCheckBalanced(root):\n",
    "    if root==None:\n",
    "        return 0,True\n",
    "    \n",
    "    lh,isLeftBalanced=getHeightAndCheckBalanced(root.left)\n",
    "    rh,isRightBalanced=getHeightAndCheckBalanced(root.right)\n",
    "    h=1+max(lh,rh)\n",
    "    if lh-rh>1 or rh-lh>1:\n",
    "        return h,False\n",
    "    if isLeftBalanced and isRightBalanced:\n",
    "        return h,True\n",
    "    else:\n",
    "        return h,False\n",
    "\n",
    "def isBalanced2(root):\n",
    "    h,isRootBalanced=getHeightAndCheckBalanced(root)\n",
    "    return isRootBalanced\n",
    "\n",
    "root=treeInput()\n",
    "printTreeDetailed(root)\n",
    "print(getHeightAndCheckBalanced(root))"
   ]
  },
  {
   "cell_type": "code",
   "execution_count": null,
   "id": "23beaa20",
   "metadata": {},
   "outputs": [],
   "source": []
  }
 ],
 "metadata": {
  "kernelspec": {
   "display_name": "Python 3 (ipykernel)",
   "language": "python",
   "name": "python3"
  },
  "language_info": {
   "codemirror_mode": {
    "name": "ipython",
    "version": 3
   },
   "file_extension": ".py",
   "mimetype": "text/x-python",
   "name": "python",
   "nbconvert_exporter": "python",
   "pygments_lexer": "ipython3",
   "version": "3.9.7"
  }
 },
 "nbformat": 4,
 "nbformat_minor": 5
}
